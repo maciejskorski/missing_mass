{
 "cells": [
  {
   "cell_type": "code",
   "execution_count": 2,
   "metadata": {},
   "outputs": [
    {
     "data": {
      "image/png": "[encoded data removed]",
      "text/plain": [
       "<Figure size 432x288 with 1 Axes>"
      ]
     },
     "metadata": {
      "needs_background": "light"
     },
     "output_type": "display_data"
    }
   ],
   "source": [
    "import numpy as np\n",
    "from matplotlib import pyplot as plt\n",
    "\n",
    "### define experiment to compare bounds on missing mass concentration\n",
    "\n",
    "def experiment(p,n,eps,ts,plot=False,assert_max_found=True):\n",
    "\n",
    "    ### moment generating function of a Bernulii variable (centered)\n",
    "\n",
    "    MGF_bern = lambda p,t: p*np.exp((1-p)*t) + (1-p)*np.exp((-p)*t)\n",
    "    assert MGF_bern(0.7,0) == 1\n",
    "\n",
    "    ### moment generating function of missing mass (centered)\n",
    "\n",
    "    q = lambda p,n: (1-p)**n\n",
    "    MGF_mass = lambda p,t: MGF_bern(q(p,n),t*p**2)\n",
    "    log_MGF_mass_bound1 = lambda p,t: p.shape[0] * np.log( 1+ (MGF_mass(p,t)-1).mean(0) )\n",
    "\n",
    "    ### chernoff's inequality / Legendre's dual\n",
    "\n",
    "    duals1 = - log_MGF_mass_bound1(p,ts) + eps * ts\n",
    "    max1 = duals1.max()\n",
    "    \n",
    "    if assert_max_found:\n",
    "        assert max1 > duals1[-1]\n",
    "\n",
    "    ### poisson occupancy bound for centered missing mass\n",
    "\n",
    "    bennet = lambda x: np.exp(x)-1-x\n",
    "    log_MGF_mass_bound2 = lambda p,t: (np.exp(-p*n)*bennet(p*t)).sum(0) / t**2\n",
    "\n",
    "    duals2 = - log_MGF_mass_bound2(p,ts) + eps * ts\n",
    "    max2 = duals2.max()\n",
    "\n",
    "    if assert_max_found:\n",
    "        assert max2 > duals2[-1]\n",
    "\n",
    "    if plot:\n",
    "        plt.plot(ts,duals1,label='weighted variances')\n",
    "        plt.plot(ts,duals2,label='poissonization')\n",
    "        plt.legend()\n",
    "        plt.xlabel('t in Chernoff')\n",
    "        plt.ylabel('negative logp')        \n",
    "        plt.title('Improvement in logp={:.3f}'.format(max1-max2))\n",
    "        plt.ylim(bottom=-10,top=10)\n",
    "        \n",
    "    return max1 - max2\n",
    "\n",
    "### look at one example\n",
    "\n",
    "p = [0.1,0.2,0.3,0.4]\n",
    "p = np.array(p).reshape(-1,1)\n",
    "n = 10\n",
    "eps = 0.25\n",
    "ts = np.linspace(1e-2,50,100)\n",
    "\n",
    "assert p.sum() == 1\n",
    "\n",
    "_ = experiment(p,n,eps,ts,plot=True)"
   ]
  },
  {
   "cell_type": "code",
   "execution_count": 4,
   "metadata": {},
   "outputs": [
    {
     "name": "stdout",
     "output_type": "stream",
     "text": [
      "4.8475692534027415 4.113497642082809\n",
      "0.13828589922847312\n"
     ]
    }
   ],
   "source": [
    "# bigger experiment\n",
    "\n",
    "np.random.seed(666)\n",
    "\n",
    "m = 50\n",
    "n = 25\n",
    "eps = 0.1\n",
    "\n",
    "ps = np.random.dirichlet(alpha=0.1*np.ones(m),size=100)\n",
    "ts = np.linspace(1e-2,30*n,1000)\n",
    "\n",
    "gains = []\n",
    "masses = []\n",
    "for p in ps:\n",
    "    np.testing.assert_almost_equal(1,p.sum())\n",
    "    masses.append(p.dot((1-p)**n))\n",
    "    p = np.expand_dims(p,-1)\n",
    "    gain = experiment(p,n,eps,ts)\n",
    "    gains.append(gain)\n",
    "\n",
    "gains = np.array(gains)\n",
    "masses = np.array(masses)\n",
    "print(gains.mean(),2*gains.std())\n",
    "print(masses.mean()) "
   ]
  }
 ],
 "metadata": {
  "kernelspec": {
   "display_name": "Python 3",
   "language": "python",
   "name": "python3"
  },
  "language_info": {
   "codemirror_mode": {
    "name": "ipython",
    "version": 3
   },
   "file_extension": ".py",
   "mimetype": "text/x-python",
   "name": "python",
   "nbconvert_exporter": "python",
   "pygments_lexer": "ipython3",
   "version": "3.6.9"
  }
 },
 "nbformat": 4,
 "nbformat_minor": 2
}
